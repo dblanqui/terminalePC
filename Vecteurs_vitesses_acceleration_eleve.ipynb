{
 "cells": [
  {
   "cell_type": "markdown",
   "metadata": {},
   "source": [
    "<div style=\"text-align:center;\"> <h2> Tracé de vecteurs vitesses et accélérations en Python</h2></div>"
   ]
  },
  {
   "cell_type": "markdown",
   "metadata": {},
   "source": [
    "### I- Approximation des vecteurs vitesses et accélérations.\n",
    "<br>\n",
    "Si l’on connaît les vecteurs position $ \\vec{OM(t)}$  , O étant l’origine du repère choisi) à intervalles de temps  ∆t égaux, on peut calculer approximativement les vecteurs vitesse $ \\vec{v(t)}$  et accélération $ \\vec{a(t)}$:\n",
    "\n",
    "$\\vec{v}(t)=\\frac{\\vec{OM}(t+\\Delta t)-\\vec{OM}(t)}{\\Delta t}$ et $ \\vec{a}(t+\\Delta t)=\\frac{\\vec{v+\\Delta t}(t)-\\vec{v}(t)}{\\Delta t}$\n",
    "<br>\n",
    "#### Point Maths :\n",
    "Si $\\vec{A}=\\vec{B}-\\vec{C}$ , alors en termes de coordonnées $A_{x} = B_{x} - C_{x}$ et $A_{y} = B_{y} - C_{y}$\n",
    "\n",
    "La norme de $\\vec{A}$ est $A = \\|\\vec{A}\\| = \\sqrt{A_{x}^{2} + A_{y}^{2}}$\n",
    "\n"
   ]
  },
  {
   "cell_type": "markdown",
   "metadata": {},
   "source": [
    "### II- Tracer des vecteurs variations de vitesses pour un mouvement parabolique\n",
    "<br>Le programme ci-dessous permet de représenter les vecteurs vitesses $\\vec v$ et accélérations $\\vec a$ en différents points d’une trajectoire d'une balle de golf. Les positions du système, ainsi que les instants t ont été extraits d’un pointage vidéo similaire à celui que vous venez de réaliser en TP.\n",
    "\n",
    "<div class=\"row\">\n",
    "  <div class=\"col-md-12\" markdown=\"1\" border=\"1\">\n",
    "  <img src=\"https://github.com/dblanqui/terminalePC/blob/master/images/balle_golf.png?raw=true\" width=\"80%\" />\n",
    " \n",
    "  </div>\n",
    "</div>\n",
    "<div class=\"row\">\n",
    "<div class=\"col-md-12\" markdown=\"1\">\n",
    "      <h4>Travail à réaliser :</h4>\n",
    "      <ol>\n",
    "          <li>Compléter les lignes permettant de calculer $v_y$ pour les données de pointage et de les ranger dans la liste vy en vous basant sur les lignes permettant de calculer $v_x$ .</li>\n",
    "          <li>Compléter les lignes permettant de calculer $a_y$ pour les données de pointage et de les ranger dans la liste  ay en vous basant sur les lignes permettant de calculer $a_x$</li>\n",
    "          <li>Insérer l'instruction Pyton permettant de tracer les vecteurs accélérations $ \\vec a$ pour chacun des points en se basant sur l'instruction permettant de tracer le vecteur vitesse.<br><br>\n",
    "              <strong><u>Rappel pour commande plt.arrow(x, y, dx, dy, \\*\\*kwargs) :</u></strong> <br>\n",
    "Cette fonction dessine une flèche partant du point de coordonnées x et y vers le point de coordonnées x+dx et y+dy). Les paramètres suivant de cette fonction sont des paramètres de mise en forme de la flèche (longueur de la tête, épaisseur de la tête..)\n",
    "          </li><br>\n",
    "          <li>Tester votre programme.</li>\n",
    "      </ol>\n",
    "  </div>\n",
    "</div>"
   ]
  },
  {
   "cell_type": "code",
   "execution_count": null,
   "metadata": {},
   "outputs": [],
   "source": [
    "import matplotlib.pyplot as plt\n",
    "\n",
    "#Données de pointages\n",
    "#t=[0,0.05,0.1,0.15,0.2,0.25,0.3,0.35,0.4,0.45,0.5,0.55,0.6,0.65,0.7,0.75,0.8,0.85,0.9,0.95,1,1.05]\n",
    "#x=[0.0045,0.1,0.195,0.291,0.39,0.486,0.581,0.676,0.772,0.872,0.963,1.058,1.153,1.249,1.344,1.444,1.535,1.634,1.725,1.816,1.911,2.007]\n",
    "#y=[0,0.25,0.468,0.654,0.822,0.967,1.076,1.162,1.221,1.262,1.271,1.267,1.23,1.176,1.085,0.981,0.854,0.699,0.522,0.318,0.095,-0.15]\n",
    "\n",
    "#Données de pointages modélisées (parabole et droite)\n",
    "t=[0,0.05,0.1,0.15,0.2,0.25,0.3,0.35,0.4,0.45,0.5,0.55,0.6,0.65,0.7,0.75,0.8,0.85,0.9,0.95,1]\n",
    "x=[0.007,0.103,0.198,0.294,0.389,0.485,0.58,0.675,0.771,0.866,0.962,1.057,1.153,1.248,1.343,1.439,1.534,1.63,1.725,1.821,1.916]\n",
    "y=[0.018,0.254,0.465,0.652,0.814,0.953,1.066,1.155,1.22,1.26,1.276,1.268,1.235,1.177,1.095,0.989,0.858,0.703,0.523,0.319,0.091]\n",
    "#Calcul des coordonnées vx \n",
    "vx=[]\n",
    "for i in range(len(t)-1):\n",
    "    vx.append((x[i+1]-x[i])/(t[i+1]-t[i]))\n",
    "\n",
    "#Calcul des coordonnées vy : a compléter\n",
    "vy=[]\n",
    "\n",
    "\n",
    "#Calcul des coordonnées ax : \n",
    "ax=[]\n",
    "for i in range(1,len(t)-1):\n",
    "    ax.append((vx[i]-vx[i-1])/(t[i]-t[i-1]))\n",
    "\n",
    "#Calcul des coordonnées ay : a compléter\n",
    "ay=[]\n",
    "    \n",
    "    \n",
    "    \n",
    "#préparation de la zone graphique\n",
    "plt.figure(figsize=(15,15))\n",
    "plt.title(\"Représentation du vecteur vitesse\")\n",
    "\n",
    "plt.xlim(0,2) \n",
    "plt.ylim(-0.3,1.5)\n",
    "plt.grid()\n",
    "\n",
    "plt.xlabel('$x$ (m)')\n",
    "plt.ylabel('$y$ (m)')\n",
    "#tracé des points de la trajectoire\n",
    "plt.plot(x,y,'ro--')\n",
    "\n",
    "#tracé des vecteurs vitesse avec un facteur d'échelle 30\n",
    "for i in range(len(t)-1):\n",
    "    plt.arrow(x[i],y[i],vx[i]/30,vy[i]/30,head_width=0.03,head_length=0.03,length_includes_head=True,color=\"blue\")\n",
    "    #Légende\n",
    "plt.text(0.2,1.45,\"Vecteurs : 1m sur le graphique $\\leftrightarrow$ 30 m/s\", color=\"blue\")\n",
    "#tracé des vecteurs accélérations avec un facteur d'échelle 40 : à compléter\n",
    "\n",
    "    #Légende\n",
    "plt.text(0.2,1.4,\"Vecteurs : 1m sur le graphique $\\leftrightarrow$ 40 $m.s^{-2}$\", color=\"red\")\n",
    "\n",
    "plt.show()"
   ]
  }
 ],
 "metadata": {
  "celltoolbar": "Aucun(e)",
  "kernelspec": {
   "display_name": "Python 3",
   "language": "python",
   "name": "python3"
  },
  "language_info": {
   "codemirror_mode": {
    "name": "ipython",
    "version": 3
   },
   "file_extension": ".py",
   "mimetype": "text/x-python",
   "name": "python",
   "nbconvert_exporter": "python",
   "pygments_lexer": "ipython3",
   "version": "3.8.3"
  }
 },
 "nbformat": 4,
 "nbformat_minor": 4
}
