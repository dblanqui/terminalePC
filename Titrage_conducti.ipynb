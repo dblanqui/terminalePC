{
 "cells": [
  {
   "cell_type": "markdown",
   "metadata": {},
   "source": [
    "### Titrage conductimétrique d'une solution d'acide chlorydrique par une solution d'hydroxyde de sodium"
   ]
  },
  {
   "cell_type": "code",
   "execution_count": null,
   "metadata": {},
   "outputs": [],
   "source": [
    "import matplotlib.pyplot as plt\n",
    "import numpy as np\n",
    "\n",
    "#Valeurs expérimentales\n",
    "C_NaOH = 0.200 #concentration apportée en hydroxyde de sodium en mol/L\n",
    "C_Oxonium = 0.303 #concentration apportée en acide chlorydrique en mol/L\n",
    "V_Oxonium = 10 #volume de solution d'acide chlorhydrique en mL\n",
    "Veau = 250 # volume d'eau ajouté en mL\n",
    "\n",
    "#Conductivités molaires ioniques en mS.m2.mol-1\n",
    "lambd_Oxonium=34.99\n",
    "lambd_OH=19.92\n",
    "lambd_Na=5.01\n",
    "lambd_Cl=7.63\n",
    "\n",
    "def calcul_quantites_avant_et_a_equivalence(i):\n",
    "    V.append(i)\n",
    "    #append ajoute une valeur à la fin d'une liste\n",
    "    n_Oxonium.append((C_Oxonium*V_Oxonium-C_NaOH*i)*1E-3)\n",
    "    n_HO.append(0)\n",
    "    n_Na.append(C_NaOH*i*1E-3)\n",
    "    n_Cl.append(C_Oxonium*V_Oxonium*1E-3)\n",
    "\n",
    "def calcul_quantites_apres_equivalence(i):\n",
    "    V.append(i)\n",
    "    #append ajoute une valeur à la fin d'une liste\n",
    "    n_Oxonium.append(0)\n",
    "    n_HO.append(C_NaOH*i*1E-3-C_Oxonium*V_Oxonium*1E-3)\n",
    "    n_Na.append(C_NaOH*i*1E-3)\n",
    "    n_Cl.append(C_Oxonium*V_Oxonium*1E-3)\n",
    "\n",
    "\n",
    "# main program\n",
    "VE=15.1 #saisie du volume equivalent en ml\n",
    "n_Oxonium, n_HO, n_Na, n_Cl, V = [],[],[],[],[] # initialisation de 5 listes\n",
    "\n",
    "for i in range  (0,26,1) :\n",
    "        if i <= VE :\n",
    "            # appelle une fonction qui calcule les quantités avant et à l'équivalence\n",
    "            calcul_quantites_avant_et_a_equivalence(i)\n",
    "        else :\n",
    "            # appelle une fonction qui calcule les quantités après l'équivalence\n",
    "            calcul_quantites_apres_equivalence(i)\n",
    "#expression de la conductivité\n",
    "Conduct = (lambd_OH*np.array(n_HO)+lambd_Na*np.array(n_Na)+lambd_Cl*np.array(n_Cl)+lambd_Oxonium*np.array(n_Oxonium)) / ((Veau+np.array(V)+V_Oxonium)*1E-4)\n",
    "#affichage des courbes\n",
    "plt.figure(figsize = (10, 10))\n",
    "plt.subplot(211) #subplot permet d'afficher deux graphes\n",
    "plt.plot(V,n_Oxonium,'bx-',linewidth=0.5,label=\"n_Oxonium\")\n",
    "plt.plot(V,n_HO,'rx-',linewidth=0.5,label=\"n_OH\")\n",
    "plt.plot(V,n_Na,'gx-',linewidth=0.5,label=\"n_Na\")\n",
    "plt.plot(V,n_Cl,'yx-',linewidth=0.5,label=\"n_Cl\")\n",
    "plt.legend()\n",
    "plt.subplot(212)\n",
    "plt.ylim(0,6)\n",
    "plt.scatter(V, Conduct, label=\"Conductivité en mS.cm-1 \", marker='+',c = 'red', linewidth = 1.5, s=50)\n",
    "plt.legend()\n",
    "plt.show()"
   ]
  },
  {
   "cell_type": "code",
   "execution_count": null,
   "metadata": {},
   "outputs": [],
   "source": []
  }
 ],
 "metadata": {
  "kernelspec": {
   "display_name": "Python 3",
   "language": "python",
   "name": "python3"
  },
  "language_info": {
   "codemirror_mode": {
    "name": "ipython",
    "version": 3
   },
   "file_extension": ".py",
   "mimetype": "text/x-python",
   "name": "python",
   "nbconvert_exporter": "python",
   "pygments_lexer": "ipython3",
   "version": "3.8.3"
  }
 },
 "nbformat": 4,
 "nbformat_minor": 4
}
