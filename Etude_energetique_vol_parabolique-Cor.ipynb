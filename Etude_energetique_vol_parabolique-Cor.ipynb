{
 "cells": [
  {
   "cell_type": "markdown",
   "metadata": {},
   "source": [
    "## Etude énergétique du mouvement d’un projectile"
   ]
  },
  {
   "cell_type": "markdown",
   "metadata": {},
   "source": [
    "Le programme suivant contient les données de pointage de la bille lors de son vol parabolique.\n",
    "Compléter le programme entre les lignes 18 et 25 pour calculer les valeurs et remplir les listes : Ec,Epp,Em<br>\n",
    "\n",
    "Aide : pour élever une grandeur en Python à une puissance n on utilise : **\n",
    "Tester les exemples dans la cellule ci-dessous :"
   ]
  },
  {
   "cell_type": "code",
   "execution_count": null,
   "metadata": {},
   "outputs": [],
   "source": [
    "print('le carré de 3 est :', 3**2)\n",
    "print('la racine carrée de 9 est :', 9**0.5)"
   ]
  },
  {
   "cell_type": "code",
   "execution_count": null,
   "metadata": {},
   "outputs": [],
   "source": [
    "import matplotlib.pyplot as plt\n",
    "\n",
    "#Données de pointages\n",
    "\n",
    "t=[0.000,0.050,0.100,0.150,0.200,0.250,0.300,0.350,0.400,0.450,0.500,0.550,0.600,0.650,0.700,0.750,0.800,0.850,0.900,0.950,1.000,1.050]\n",
    "x=[0.005,0.100,0.195,0.291,0.390,0.486,0.581,0.676,0.772,0.872,0.963,1.058,1.153,1.249,1.344,1.444,1.535,1.634,1.725,1.816,1.911,2.007]\n",
    "y=[0.000,0.250,0.468,0.654,0.822,0.967,1.076,1.162,1.221,1.262,1.271,1.267,1.230,1.176,1.085,0.981,0.854,0.699,0.522,0.318,0.095,-0.150]\n",
    "v=[5.644,5.050,4.468,4.043,3.691,3.178,2.729,2.397,2.193,1.971,1.862,1.950,2.112,2.397,2.761,2.999,3.400,3.824,4.224,4.656,5.050,5.447]\n",
    "\n",
    "m=0.045\n",
    "g=9.81\n",
    "# Créations des listes pour accueillir les données calculées des énergies :\n",
    "Ec=[]\n",
    "Epp=[]\n",
    "Em=[]\n",
    "\n",
    "#Calculs des différentes valeurs des grandeurs et stockage des résultats dans les listes\n",
    "for i in range (len(t)):\n",
    "    Eci=0.5*m*v[i]**2\n",
    "    Ec.append(Eci)\n",
    "    Eppi=m*g*y[i]\n",
    "    Epp.append(Eppi)\n",
    "    Emi=Eci+Eppi\n",
    "    Em.append(Emi)\n",
    "\n",
    "\n",
    "#tracé de la courbe\n",
    "plt.figure(figsize=(10,10))\n",
    "plt.grid()\n",
    "plt.title(\"Evolution des énergies cinétique, potentielle de pesanteur et mécanique\")\n",
    "plt.xlabel('$t$ (s)')\n",
    "plt.ylabel('Epp (J),Ec(J),Em(J)')\n",
    "plt.plot(t,Epp,'r--o',label='$\\mathcal{E}_{pp}$')\n",
    "plt.plot(t,Ec,'k--x',label='$\\mathcal{E}_{c}$')\n",
    "plt.plot(t,Em,'g--x',label='$\\mathcal{E}_{m}$')\n",
    "plt.legend()\n",
    "plt.show()"
   ]
  }
 ],
 "metadata": {
  "kernelspec": {
   "display_name": "Python 3",
   "language": "python",
   "name": "python3"
  },
  "language_info": {
   "codemirror_mode": {
    "name": "ipython",
    "version": 3
   },
   "file_extension": ".py",
   "mimetype": "text/x-python",
   "name": "python",
   "nbconvert_exporter": "python",
   "pygments_lexer": "ipython3",
   "version": "3.8.3"
  }
 },
 "nbformat": 4,
 "nbformat_minor": 4
}
