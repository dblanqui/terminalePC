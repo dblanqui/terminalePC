{
 "cells": [
  {
   "cell_type": "markdown",
   "metadata": {},
   "source": [
    "<div style=\"text-align:center;\"> <h2> Tracé de vecteurs vitesses et accélérations en Python</h2></div>"
   ]
  },
  {
   "cell_type": "markdown",
   "metadata": {},
   "source": [
    "### I- Approximation des vecteurs vitesses et accélérations.\n",
    "<br>\n",
    "Si l’on connaît les vecteurs position $ \\vec{OM(t)}$  , O étant l’origine du repère choisi) à intervalles de temps  ∆t égaux, on peut calculer approximativement les vecteurs vitesse $ \\vec{v(t)}$  et accélération $ \\vec{a(t)}$:\n",
    "\n",
    "$\\vec{v}(t)=\\frac{\\vec{OM}(t+\\Delta t)-\\vec{OM}(t)}{\\Delta t}$ et $ \\vec{a}(t+\\Delta t)=\\frac{\\vec{v+\\Delta t}(t)-\\vec{v}(t)}{\\Delta t}$\n",
    "<br>\n",
    "#### Point Maths :\n",
    "Si $\\vec{A}=\\vec{B}-\\vec{C}$ , alors en termes de coordonnées $A_{x} = B_{x} - C_{x}$ et $A_{y} = B_{y} - C_{y}$\n",
    "\n",
    "La norme de $\\vec{A}$ est $A = \\|\\vec{A}\\| = \\sqrt{A_{x}^{2} + A_{y}^{2}}$\n",
    "\n"
   ]
  },
  {
   "cell_type": "markdown",
   "metadata": {},
   "source": [
    "### II- Tracer des vecteurs variations de vitesses pour un mouvement circulaire\n",
    "<br>Le programme ci-dessous permet de représenter les vecteurs vitesses $\\vec v$ et accélérations $\\vec a$ en différents points d’une trajectoire d'une balle de golf. Les positions du système, ainsi que les instants t ont été extraits d’un pointage vidéo similaire à celui que vous venez de réaliser en TP.\n",
    "\n",
    "<div class=\"row\">\n",
    "  <div class=\"col-md-6\" markdown=\"1\" border=\"1\">\n",
    "  <img src=\"https://github.com/dblanqui/1PC/blob/master/images/trajectoire_circulaire.png?raw=true\" width=\"80%\" />\n",
    " \n",
    "  </div>\n",
    "  <div class=\"col-md-6\" markdown=\"1\">\n",
    "      <h4>Travail à réaliser :</h4>\n",
    "      <ol><br>\n",
    "          <li>Compléter les lignes permettant de calculer $v_x$ et $v_y$ pour les données de pointage et de les ranger dans les listes vx et vy.</li><br>\n",
    "          <li>Compléter les lignes permettant de calculer $a_x$ et $a_y$ pour les données de pointage et de les ranger dans les listes ax et ay.</li><br>\n",
    "          <li>Insérer à la place du commentaire existant l'instruction Pyton permettant de tracer les vecteurs accélérations $ \\vec a$ pour chacun des points en se basant sur l'instruction permettant de tracer le vecteur vitesse.<br><br>\n",
    "              <strong><u>Rappel pour commande plt.arrow(x, y, dx, dy, \\*\\*kwargs) :</u></strong> <br>\n",
    "Cette fonction dessine une flèche partant du point de coordonnées x et y vers le point de coordonnées x+dx et y+dy). Les paramètres suivant de cette fonction sont des paramètres de mise en forme de la flèche (longueur de la tête, épaisseur de la tête..)\n",
    "          </li><br>\n",
    "          <li>Tester votre programme.</li>\n",
    "      </ol>\n",
    "  </div>\n",
    "</div>"
   ]
  },
  {
   "cell_type": "code",
   "execution_count": 1,
   "metadata": {},
   "outputs": [
    {
     "ename": "IndentationError",
     "evalue": "expected an indented block (<ipython-input-1-6282abea9edd>, line 33)",
     "output_type": "error",
     "traceback": [
      "\u001b[0;36m  File \u001b[0;32m\"<ipython-input-1-6282abea9edd>\"\u001b[0;36m, line \u001b[0;32m33\u001b[0m\n\u001b[0;31m    plt.text(0.1,0.25,\"Vecteurs : 1m sur le graphique $\\leftrightarrow$ 4 m/s\", color=\"blue\")\u001b[0m\n\u001b[0m      ^\u001b[0m\n\u001b[0;31mIndentationError\u001b[0m\u001b[0;31m:\u001b[0m expected an indented block\n"
     ]
    }
   ],
   "source": [
    "import matplotlib.pyplot as plt\n",
    "\n",
    "t=[0.000,0.080,0.160,0.240,0.320,0.400,0.480,0.560,0.640,0.720,0.800,0.880,0.960,1.040,1.120,1.200,1.280,1.360,1.440,1.520,1.600,1.680,1.760,1.840,1.920]\n",
    "x=[0.056,-0.005,-0.064,-0.123,-0.170,-0.207,-0.228,-0.231,-0.218,-0.186,-0.144,-0.090,-0.031,0.030,0.088,0.141,0.184,0.217,0.235,0.241,0.230,0.209,0.174,0.131,0.077]\n",
    "y=[0.226,0.231,0.222,0.196,0.155,0.103,0.044,-0.019,-0.078,-0.133,-0.178,-0.211,-0.228,-0.230,-0.215,-0.188,-0.149,-0.101,-0.048,0.007,0.063,0.114,0.158,0.194,0.219]\n",
    "\n",
    "#Calcul des coordonnées Vx : a compléter\n",
    "Vx=[]\n",
    "\n",
    "\n",
    "#Calcul des coordonnées Vy : a compléter\n",
    "Vy=[]\n",
    "\n",
    "\n",
    "\n",
    "#préparation de la zone graphique\n",
    "plt.figure(figsize=(15,15))\n",
    "plt.title(\"Représentation du vecteur vitesse\")\n",
    "\n",
    "plt.xlim(-0.3,0.3) \n",
    "plt.ylim(-0.3,0.3)\n",
    "plt.grid()\n",
    "\n",
    "plt.xlabel('$x$ (m)')\n",
    "plt.ylabel('$y$ (m)')\n",
    "#tracé des points de la trajectoire\n",
    "plt.plot(x,y,'ro--')\n",
    "plt.plot(0,0,'ro')\n",
    "#tracé des vecteurs vitesse avec un facteur d'échelle\n",
    "for i in range(1,len(t)-1): #on commence à l'indice 1\n",
    "    # ligne pour tracer les vecteurs avec la commande plt.arrow à insérer.\n",
    "#Légende\n",
    "plt.text(0.1,0.25,\"Vecteurs : 1m sur le graphique $\\leftrightarrow$ 4 m/s\", color=\"blue\")\n",
    "plt.show()"
   ]
  },
  {
   "cell_type": "code",
   "execution_count": null,
   "metadata": {},
   "outputs": [],
   "source": []
  }
 ],
 "metadata": {
  "celltoolbar": "Éditer les Méta-Données",
  "kernelspec": {
   "display_name": "Python 3",
   "language": "python",
   "name": "python3"
  },
  "language_info": {
   "codemirror_mode": {
    "name": "ipython",
    "version": 3
   },
   "file_extension": ".py",
   "mimetype": "text/x-python",
   "name": "python",
   "nbconvert_exporter": "python",
   "pygments_lexer": "ipython3",
   "version": "3.8.3"
  }
 },
 "nbformat": 4,
 "nbformat_minor": 4
}
