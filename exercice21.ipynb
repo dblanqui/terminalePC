{
 "cells": [
  {
   "cell_type": "code",
   "execution_count": null,
   "metadata": {},
   "outputs": [],
   "source": [
    "import matplotlib.pyplot as plt\n",
    "import numpy as np\n",
    "pKA=float(input('pKA du couple HA / A-  ?'))\n",
    "pH = np.linspace(0,14,1000)\n",
    "pHA = [100/(1+10**(i-pKA)) for i in pH]\n",
    "pA = [100/(1+10**(pKA-i)) for i in pH]\n",
    "plt.title('Diagramme de distribution d\\'un couple HA/A-')\n",
    "plt.xlabel('pH')\n",
    "plt.ylabel('%')\n",
    "plt.axis(xmin=0,xmax=14,ymin=0, ymax=100)\n",
    "plt.xticks(range(15))\n",
    "plt.yticks(range(0,110,10))\n",
    "plt.grid(linestyle=\"-.\")\n",
    "plt.plot(pH, pHA, color='r', label='% en HA' )\n",
    "plt.plot(pH, pA, color='b',label='% en A-' )\n",
    "plt.show()"
   ]
  }
 ],
 "metadata": {
  "kernelspec": {
   "display_name": "Python 3",
   "language": "python",
   "name": "python3"
  },
  "language_info": {
   "codemirror_mode": {
    "name": "ipython",
    "version": 3
   },
   "file_extension": ".py",
   "mimetype": "text/x-python",
   "name": "python",
   "nbconvert_exporter": "python",
   "pygments_lexer": "ipython3",
   "version": "3.7.3"
  }
 },
 "nbformat": 4,
 "nbformat_minor": 2
}
