{
 "cells": [
  {
   "cell_type": "markdown",
   "metadata": {},
   "source": [
    "## Estimation d’une incertitude-type par une méthode numérique de type Monte-Carlo \n",
    "\n",
    "### Titrage avec suivi pHmétrique\n",
    "Remarque : Si les numéros des lignes ne s'affichent pas dans le notebook, les afficher en utilisant le menu view puis en selectionnant Toggle Line Numbers."
   ]
  },
  {
   "cell_type": "code",
   "execution_count": 12,
   "metadata": {},
   "outputs": [
    {
     "name": "stdout",
     "output_type": "stream",
     "text": [
      "Concentration molaire de la solution commerciale 12.160149768176375\n",
      "u(C) : 0.03633665168747501\n"
     ]
    },
    {
     "data": {
      "image/png": "[encoded data removed]",
      "text/plain": [
       "<Figure size 432x288 with 1 Axes>"
      ]
     },
     "metadata": {
      "needs_background": "light"
     },
     "output_type": "display_data"
    }
   ],
   "source": [
    "import numpy as np\n",
    "from matplotlib import pyplot\n",
    "###################################################################\n",
    "#Renvoie une valeur aléatoire de la variable L[0] d'incertitude-type L[1]\n",
    "def Alea(L):\n",
    "    tirage=np.random.normal()\n",
    "    return L[0]+L[1]*tirage\n",
    "###################################################################\n",
    "###################################################################\n",
    "#Entrées [ valeur, incertitude-type ]\n",
    "CB=[0.2,0]\n",
    "VBE=[15.2,0]\n",
    "VA=[10,0.03]\n",
    "###################################################################\n",
    "###################################################################\n",
    "#Méthode de Monte Carlo pour le calcul de C\n",
    "LC=[]\n",
    "Iteration=100000\n",
    "for j in range(Iteration):\n",
    "    AleaC=40*Alea(CB)*Alea(VBE)/Alea(VA)  #Relation qui permet de calculer C\n",
    "    LC.append(AleaC)\n",
    "MoyC=sum(LC)/Iteration\n",
    "uC=(1/(Iteration-1)*sum((np.array(LC)-MoyC)**2.))**0.5\n",
    "###################################################################\n",
    "###################################################################\n",
    "#Affichage des résultats\n",
    "print('Concentration molaire de la solution commerciale', MoyC)\n",
    "print('u(C) :',uC)\n",
    "pyplot.hist(LC, range = (9, 15), bins = 50, color = 'blue', edgecolor = 'white')\n",
    "pyplot.xlabel('C')\n",
    "pyplot.ylabel('effectif')\n",
    "pyplot.title('Pour 100 000 iterations')\n",
    "pyplot.show()\n",
    "###################################################################\n"
   ]
  },
  {
   "cell_type": "markdown",
   "metadata": {},
   "source": [
    "## Pour aller plus loin : principe de la méthode Monte-Carlo\n",
    "Le programme ci-dessus permet d’évaluer l’incertitude sur la concentration de la solution en acide chlorhydrique en tenant compte des différentes sources d’incertitudes liées au matériel utilisé.\n",
    "Sous certaines conditions,non détaillées ici, on montre en mathématiques que les résultats d'une suite d'expériences aléatoires similaires et indépendantes lorsque le nombre d'expériences est très élevé suivent une loi normale de probabilité. \n",
    "On peut appréhender l'allure de cette loi de probabilité en utilisant l'animation ci-dessous :\n",
    "<br>\n",
    "<div class=\"row\">\n",
    "  <div class=\"col-md-8\" markdown=\"1\" border=\"1\">\n",
    "  <a href=\"https://phet.colorado.edu/sims/html/plinko-probability/latest/plinko-probability_fr.html\" target=\"_blank\"><img src=\"https://github.com/dblanqui/terminalePC/blob/master/images/plinko.png?raw=true\" /></a>\n",
    "  </div>\n",
    "  <div class=\"col-md-4\" markdown=\"1\">\n",
    "      <h4>Appréhender une distribution normale :</h4>\n",
    "      <ol><br>\n",
    "  <li>Utiliser cette <a href=\"https://phet.colorado.edu/sims/html/plinko-probability/latest/plinko-probability_fr.html\" target=\"_blank\">animation</a> et choisir explore 2D. Choisir un flux continu de balles et lancer l'animation.<img src=\"https://github.com/dblanqui/terminalePC/blob/master/images/plinko2.png?raw=true\" /></li><br>\n",
    "          <li>Observer pour un grand nombre de balles, la répartition des points de chutes.</li>\n",
    "      </ol>\n",
    "  </div>\n",
    "</div>\n",
    "<br>\n",
    "La simulation de Monte-Carlo, utilisée dans le programme ci-dessous utilise cette loi de probabilité pour simuler un grand nombre N d'expériences (ci-dessous N=100000 ligne 18) : le simulateur génère d’un jeu de N données aléatoires pour chaque grandeur physique « mesurée », en accord avec la loi de probabilité de chacune d’elle (loi normale): fonction Alea. Puis il calcule pour chaque jeu de données la valeur de la grandeur physique de sortie => on obtient ainsi un jeu de N valeurs calculées de la grandeur physique de sortie (lignes 19 à 21). La valeur retenue est alors la valeur moyenne de l’ensemble de ce jeu de N valeurs et l’incertitude-type sera l’écart-type de la distribution de ces N valeurs (lignes 22 et 23)."
   ]
  }
 ],
 "metadata": {
  "kernelspec": {
   "display_name": "Python 3",
   "language": "python",
   "name": "python3"
  },
  "language_info": {
   "codemirror_mode": {
    "name": "ipython",
    "version": 3
   },
   "file_extension": ".py",
   "mimetype": "text/x-python",
   "name": "python",
   "nbconvert_exporter": "python",
   "pygments_lexer": "ipython3",
   "version": "3.8.3"
  }
 },
 "nbformat": 4,
 "nbformat_minor": 4
}
